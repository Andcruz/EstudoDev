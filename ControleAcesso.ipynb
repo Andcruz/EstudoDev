{
  "nbformat": 4,
  "nbformat_minor": 0,
  "metadata": {
    "colab": {
      "provenance": [],
      "authorship_tag": "ABX9TyPu8cTZbrVXBbfD70sJHkAz",
      "include_colab_link": true
    },
    "kernelspec": {
      "name": "python3",
      "display_name": "Python 3"
    },
    "language_info": {
      "name": "python"
    }
  },
  "cells": [
    {
      "cell_type": "markdown",
      "metadata": {
        "id": "view-in-github",
        "colab_type": "text"
      },
      "source": [
        "<a href=\"https://colab.research.google.com/github/Andcruz/EstudoDev/blob/main/ControleAcesso.ipynb\" target=\"_parent\"><img src=\"https://colab.research.google.com/assets/colab-badge.svg\" alt=\"Open In Colab\"/></a>"
      ]
    },
    {
      "cell_type": "code",
      "execution_count": null,
      "metadata": {
        "id": "eosTv3Mqr0Bz"
      },
      "outputs": [],
      "source": [
        "#controle de entrada para menores\n",
        "idade=int(input('digite sua idade:'))\n",
        "genero=str(input('digite seu genero:'))\n",
        "\n",
        "if idade >= 18 and genero == 'm':\n",
        "     print('ACESSO LIBERADO!para homens')\n",
        "elif idade >= 21 and genero == 'f':\n",
        "     print('ACESSO LIBERADO!para mulheres')\n",
        "else:\n",
        "    print('vc é menor de idade!NÃO PODERÁ ENTRAR!')"
      ]
    }
  ]
}